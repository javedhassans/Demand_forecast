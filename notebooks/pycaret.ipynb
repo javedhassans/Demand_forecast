{
 "cells": [
  {
   "cell_type": "code",
   "execution_count": 1,
   "metadata": {},
   "outputs": [],
   "source": [
    "from pycaret.regression import *"
   ]
  },
  {
   "cell_type": "code",
   "execution_count": 2,
   "metadata": {},
   "outputs": [],
   "source": [
    "# importing dependecies\n",
    "import pandas as pd\n",
    "import numpy as np"
   ]
  },
  {
   "cell_type": "code",
   "execution_count": 3,
   "metadata": {},
   "outputs": [],
   "source": [
    "def manipulate_data(dataset):\n",
    "\n",
    "\n",
    "    # reading the data\n",
    "    data = pd .read_csv(dataset)\n",
    "\n",
    "    # convert hour to string\n",
    "    data['hour'] = data.hour.astype('str')\n",
    "\n",
    "    # create newdatetime data columns\n",
    "    data[\"newdatetime\"] = data['date'] + ' ' + data['hour'] + ':00'\n",
    "\n",
    "    # convert the newdatetime column to data time\n",
    "    data[\"newdatetime\"] = pd.to_datetime(data[\"newdatetime\"])\n",
    "\n",
    "    # feature enginering\n",
    "    data[\"hour_of_day\"] = data[\"newdatetime\"].dt.hour\n",
    "    data[\"day_of_month\"] = data[\"newdatetime\"].dt.day\n",
    "    data[\"month_of_year\"] = data[\"newdatetime\"].dt.month\n",
    "    data[\"year\"] = data[\"newdatetime\"].dt.year\n",
    "    data['quarter_of_year'] = data[\"newdatetime\"].dt.quarter\n",
    "    data['week_of_year'] = data[\"newdatetime\"].dt.week\n",
    "    data['day_of_year'] = data[\"newdatetime\"].dt.dayofyear\n",
    "    data['day_of_week'] = data[\"newdatetime\"].dt.dayofweek\n",
    "\n",
    "    # drop not needed columns \n",
    "    data.drop([\"date\", \"hour\", \"newdatetime\"], axis = 1, inplace = True)\n",
    "\n",
    "    return data\n"
   ]
  },
  {
   "cell_type": "code",
   "execution_count": 4,
   "metadata": {},
   "outputs": [
    {
     "name": "stdout",
     "output_type": "stream",
     "text": [
      "(18247, 12)\n"
     ]
    }
   ],
   "source": [
    "df = manipulate_data(\"../data/train_E1GspfA.csv\")\n",
    "print(df.shape)"
   ]
  },
  {
   "cell_type": "code",
   "execution_count": 5,
   "metadata": {},
   "outputs": [
    {
     "data": {
      "text/html": [
       "<div>\n",
       "<style scoped>\n",
       "    .dataframe tbody tr th:only-of-type {\n",
       "        vertical-align: middle;\n",
       "    }\n",
       "\n",
       "    .dataframe tbody tr th {\n",
       "        vertical-align: top;\n",
       "    }\n",
       "\n",
       "    .dataframe thead th {\n",
       "        text-align: right;\n",
       "    }\n",
       "</style>\n",
       "<table border=\"1\" class=\"dataframe\">\n",
       "  <thead>\n",
       "    <tr style=\"text-align: right;\">\n",
       "      <th></th>\n",
       "      <th>date</th>\n",
       "      <th>hour</th>\n",
       "      <th>demand</th>\n",
       "      <th>newdatetime</th>\n",
       "      <th>hour_of_day</th>\n",
       "      <th>day_of_month</th>\n",
       "      <th>month_of_year</th>\n",
       "      <th>year</th>\n",
       "      <th>quarter_of_year</th>\n",
       "      <th>week_of_year</th>\n",
       "      <th>day_of_year</th>\n",
       "      <th>day_of_week</th>\n",
       "    </tr>\n",
       "  </thead>\n",
       "  <tbody>\n",
       "    <tr>\n",
       "      <th>0</th>\n",
       "      <td>2018-08-18</td>\n",
       "      <td>9</td>\n",
       "      <td>91</td>\n",
       "      <td>2018-08-18 09:00:00</td>\n",
       "      <td>9</td>\n",
       "      <td>18</td>\n",
       "      <td>8</td>\n",
       "      <td>2018</td>\n",
       "      <td>3</td>\n",
       "      <td>33</td>\n",
       "      <td>230</td>\n",
       "      <td>5</td>\n",
       "    </tr>\n",
       "    <tr>\n",
       "      <th>1</th>\n",
       "      <td>2018-08-18</td>\n",
       "      <td>10</td>\n",
       "      <td>21</td>\n",
       "      <td>2018-08-18 10:00:00</td>\n",
       "      <td>10</td>\n",
       "      <td>18</td>\n",
       "      <td>8</td>\n",
       "      <td>2018</td>\n",
       "      <td>3</td>\n",
       "      <td>33</td>\n",
       "      <td>230</td>\n",
       "      <td>5</td>\n",
       "    </tr>\n",
       "    <tr>\n",
       "      <th>2</th>\n",
       "      <td>2018-08-18</td>\n",
       "      <td>13</td>\n",
       "      <td>23</td>\n",
       "      <td>2018-08-18 13:00:00</td>\n",
       "      <td>13</td>\n",
       "      <td>18</td>\n",
       "      <td>8</td>\n",
       "      <td>2018</td>\n",
       "      <td>3</td>\n",
       "      <td>33</td>\n",
       "      <td>230</td>\n",
       "      <td>5</td>\n",
       "    </tr>\n",
       "    <tr>\n",
       "      <th>3</th>\n",
       "      <td>2018-08-18</td>\n",
       "      <td>14</td>\n",
       "      <td>104</td>\n",
       "      <td>2018-08-18 14:00:00</td>\n",
       "      <td>14</td>\n",
       "      <td>18</td>\n",
       "      <td>8</td>\n",
       "      <td>2018</td>\n",
       "      <td>3</td>\n",
       "      <td>33</td>\n",
       "      <td>230</td>\n",
       "      <td>5</td>\n",
       "    </tr>\n",
       "    <tr>\n",
       "      <th>4</th>\n",
       "      <td>2018-08-18</td>\n",
       "      <td>15</td>\n",
       "      <td>81</td>\n",
       "      <td>2018-08-18 15:00:00</td>\n",
       "      <td>15</td>\n",
       "      <td>18</td>\n",
       "      <td>8</td>\n",
       "      <td>2018</td>\n",
       "      <td>3</td>\n",
       "      <td>33</td>\n",
       "      <td>230</td>\n",
       "      <td>5</td>\n",
       "    </tr>\n",
       "  </tbody>\n",
       "</table>\n",
       "</div>"
      ],
      "text/plain": [
       "         date hour  demand         newdatetime  hour_of_day  day_of_month  \\\n",
       "0  2018-08-18    9      91 2018-08-18 09:00:00            9            18   \n",
       "1  2018-08-18   10      21 2018-08-18 10:00:00           10            18   \n",
       "2  2018-08-18   13      23 2018-08-18 13:00:00           13            18   \n",
       "3  2018-08-18   14     104 2018-08-18 14:00:00           14            18   \n",
       "4  2018-08-18   15      81 2018-08-18 15:00:00           15            18   \n",
       "\n",
       "   month_of_year  year  quarter_of_year  week_of_year  day_of_year  \\\n",
       "0              8  2018                3            33          230   \n",
       "1              8  2018                3            33          230   \n",
       "2              8  2018                3            33          230   \n",
       "3              8  2018                3            33          230   \n",
       "4              8  2018                3            33          230   \n",
       "\n",
       "   day_of_week  \n",
       "0            5  \n",
       "1            5  \n",
       "2            5  \n",
       "3            5  \n",
       "4            5  "
      ]
     },
     "execution_count": 5,
     "metadata": {},
     "output_type": "execute_result"
    }
   ],
   "source": [
    "df.head(5)"
   ]
  },
  {
   "cell_type": "code",
   "execution_count": null,
   "metadata": {},
   "outputs": [],
   "source": [
    "# drop column not needed"
   ]
  },
  {
   "cell_type": "code",
   "execution_count": null,
   "metadata": {},
   "outputs": [],
   "source": [
    "exp_reg101 = setup(data = df, target = 'demand', session_id=123) "
   ]
  }
 ],
 "metadata": {
  "interpreter": {
   "hash": "d9260bd23668839eeb31cc3db2792f97e42287699cc09e604112d05d85f4f9e1"
  },
  "kernelspec": {
   "display_name": "Python 3.8.13 ('pycaret')",
   "language": "python",
   "name": "python3"
  },
  "language_info": {
   "codemirror_mode": {
    "name": "ipython",
    "version": 3
   },
   "file_extension": ".py",
   "mimetype": "text/x-python",
   "name": "python",
   "nbconvert_exporter": "python",
   "pygments_lexer": "ipython3",
   "version": "3.8.13"
  },
  "orig_nbformat": 4
 },
 "nbformat": 4,
 "nbformat_minor": 2
}
