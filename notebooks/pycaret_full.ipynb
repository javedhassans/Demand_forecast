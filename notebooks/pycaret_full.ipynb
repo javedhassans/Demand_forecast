{
 "cells": [
  {
   "cell_type": "code",
   "execution_count": 1,
   "metadata": {},
   "outputs": [],
   "source": [
    "from pycaret.regression import *"
   ]
  },
  {
   "cell_type": "code",
   "execution_count": 2,
   "metadata": {},
   "outputs": [],
   "source": [
    "# importing dependecies\n",
    "import pandas as pd\n",
    "import numpy as np"
   ]
  },
  {
   "cell_type": "code",
   "execution_count": 3,
   "metadata": {},
   "outputs": [],
   "source": [
    "def manipulate_data(dataset):\n",
    "\n",
    "\n",
    "    # reading the data\n",
    "    data = pd .read_csv(dataset)\n",
    "\n",
    "    # convert hour to string\n",
    "    data['hour'] = data.hour.astype('str')\n",
    "\n",
    "    # create newdatetime data columns\n",
    "    data[\"newdatetime\"] = data['date'] + ' ' + data['hour'] + ':00'\n",
    "\n",
    "    # convert the newdatetime column to data time\n",
    "    data[\"newdatetime\"] = pd.to_datetime(data[\"newdatetime\"])\n",
    "\n",
    "    # feature enginering\n",
    "    data[\"hour_of_day\"] = data[\"newdatetime\"].dt.hour\n",
    "    data[\"day_of_month\"] = data[\"newdatetime\"].dt.day\n",
    "    data[\"month_of_year\"] = data[\"newdatetime\"].dt.month\n",
    "    data[\"year\"] = data[\"newdatetime\"].dt.year\n",
    "    data['quarter_of_year'] = data[\"newdatetime\"].dt.quarter\n",
    "    data['week_of_year'] = data[\"newdatetime\"].dt.week\n",
    "    data['day_of_year'] = data[\"newdatetime\"].dt.dayofyear\n",
    "    data['day_of_week'] = data[\"newdatetime\"].dt.dayofweek\n",
    "\n",
    "    # drop not needed columns \n",
    "    data.drop([\"date\", \"hour\", \"newdatetime\"], axis = 1, inplace = True)\n",
    "\n",
    "    return data\n"
   ]
  },
  {
   "cell_type": "code",
   "execution_count": 4,
   "metadata": {},
   "outputs": [
    {
     "name": "stdout",
     "output_type": "stream",
     "text": [
      "(18247, 9)\n"
     ]
    }
   ],
   "source": [
    "df = manipulate_data(\"../data/train_E1GspfA.csv\")\n",
    "print(df.shape)"
   ]
  },
  {
   "cell_type": "code",
   "execution_count": 5,
   "metadata": {},
   "outputs": [
    {
     "data": {
      "application/vnd.jupyter.widget-view+json": {
       "model_id": "31d9ccb17c7e499c86137f2485a352cb",
       "version_major": 2,
       "version_minor": 0
      },
      "text/plain": [
       "IntProgress(value=0, description='Processing: ', max=3)"
      ]
     },
     "metadata": {},
     "output_type": "display_data"
    },
    {
     "data": {
      "text/html": [
       "<div>\n",
       "<style scoped>\n",
       "    .dataframe tbody tr th:only-of-type {\n",
       "        vertical-align: middle;\n",
       "    }\n",
       "\n",
       "    .dataframe tbody tr th {\n",
       "        vertical-align: top;\n",
       "    }\n",
       "\n",
       "    .dataframe thead th {\n",
       "        text-align: right;\n",
       "    }\n",
       "</style>\n",
       "<table border=\"1\" class=\"dataframe\">\n",
       "  <thead>\n",
       "    <tr style=\"text-align: right;\">\n",
       "      <th></th>\n",
       "      <th></th>\n",
       "      <th></th>\n",
       "    </tr>\n",
       "    <tr>\n",
       "      <th></th>\n",
       "      <th></th>\n",
       "      <th></th>\n",
       "    </tr>\n",
       "  </thead>\n",
       "  <tbody>\n",
       "    <tr>\n",
       "      <th>Initiated</th>\n",
       "      <td>. . . . . . . . . . . . . . . . . .</td>\n",
       "      <td>16:04:36</td>\n",
       "    </tr>\n",
       "    <tr>\n",
       "      <th>Status</th>\n",
       "      <td>. . . . . . . . . . . . . . . . . .</td>\n",
       "      <td>Preparing Data for Modeling</td>\n",
       "    </tr>\n",
       "  </tbody>\n",
       "</table>\n",
       "</div>"
      ],
      "text/plain": [
       "                                                                           \n",
       "                                                                           \n",
       "Initiated  . . . . . . . . . . . . . . . . . .                     16:04:36\n",
       "Status     . . . . . . . . . . . . . . . . . .  Preparing Data for Modeling"
      ]
     },
     "metadata": {},
     "output_type": "display_data"
    },
    {
     "ename": "ValueError",
     "evalue": "Setting a random_state has no effect since shuffle is False. You should leave random_state to its default (None), or set shuffle=True.",
     "output_type": "error",
     "traceback": [
      "\u001b[0;31m---------------------------------------------------------------------------\u001b[0m",
      "\u001b[0;31mValueError\u001b[0m                                Traceback (most recent call last)",
      "\u001b[1;32m/home/ubuntu/Documents/Demand_forecast/notebooks/pycaret_full.ipynb Cell 5'\u001b[0m in \u001b[0;36m<cell line: 1>\u001b[0;34m()\u001b[0m\n\u001b[0;32m----> <a href='vscode-notebook-cell://wsl%2Bubuntu/home/ubuntu/Documents/Demand_forecast/notebooks/pycaret_full.ipynb#ch0000004vscode-remote?line=0'>1</a>\u001b[0m exp_reg101 \u001b[39m=\u001b[39m setup(data \u001b[39m=\u001b[39;49m df, target \u001b[39m=\u001b[39;49m \u001b[39m'\u001b[39;49m\u001b[39mdemand\u001b[39;49m\u001b[39m'\u001b[39;49m, session_id\u001b[39m=\u001b[39;49m\u001b[39m123\u001b[39;49m)\n",
      "File \u001b[0;32m~/miniconda3/envs/pycaret_full/lib/python3.9/site-packages/pycaret/regression.py:571\u001b[0m, in \u001b[0;36msetup\u001b[0;34m(data, target, train_size, test_data, preprocess, imputation_type, iterative_imputation_iters, categorical_features, categorical_imputation, categorical_iterative_imputer, ordinal_features, high_cardinality_features, high_cardinality_method, numeric_features, numeric_imputation, numeric_iterative_imputer, date_features, ignore_features, normalize, normalize_method, transformation, transformation_method, handle_unknown_categorical, unknown_categorical_method, pca, pca_method, pca_components, ignore_low_variance, combine_rare_levels, rare_level_threshold, bin_numeric_features, remove_outliers, outliers_threshold, remove_multicollinearity, multicollinearity_threshold, remove_perfect_collinearity, create_clusters, cluster_iter, polynomial_features, polynomial_degree, trigonometry_features, polynomial_threshold, group_features, group_names, feature_selection, feature_selection_threshold, feature_selection_method, feature_interaction, feature_ratio, interaction_threshold, transform_target, transform_target_method, data_split_shuffle, data_split_stratify, fold_strategy, fold, fold_shuffle, fold_groups, n_jobs, use_gpu, custom_pipeline, html, session_id, log_experiment, experiment_name, log_plots, log_profile, log_data, silent, verbose, profile, profile_kwargs)\u001b[0m\n\u001b[1;32m    <a href='file:///home/ubuntu/miniconda3/envs/pycaret_full/lib/python3.9/site-packages/pycaret/regression.py?line=567'>568</a>\u001b[0m \u001b[39mif\u001b[39;00m log_plots \u001b[39m==\u001b[39m \u001b[39mTrue\u001b[39;00m:\n\u001b[1;32m    <a href='file:///home/ubuntu/miniconda3/envs/pycaret_full/lib/python3.9/site-packages/pycaret/regression.py?line=568'>569</a>\u001b[0m     log_plots \u001b[39m=\u001b[39m [\u001b[39m\"\u001b[39m\u001b[39mresiduals\u001b[39m\u001b[39m\"\u001b[39m, \u001b[39m\"\u001b[39m\u001b[39merror\u001b[39m\u001b[39m\"\u001b[39m, \u001b[39m\"\u001b[39m\u001b[39mfeature\u001b[39m\u001b[39m\"\u001b[39m]\n\u001b[0;32m--> <a href='file:///home/ubuntu/miniconda3/envs/pycaret_full/lib/python3.9/site-packages/pycaret/regression.py?line=570'>571</a>\u001b[0m \u001b[39mreturn\u001b[39;00m pycaret\u001b[39m.\u001b[39;49minternal\u001b[39m.\u001b[39;49mtabular\u001b[39m.\u001b[39;49msetup(\n\u001b[1;32m    <a href='file:///home/ubuntu/miniconda3/envs/pycaret_full/lib/python3.9/site-packages/pycaret/regression.py?line=571'>572</a>\u001b[0m     ml_usecase\u001b[39m=\u001b[39;49m\u001b[39m\"\u001b[39;49m\u001b[39mregression\u001b[39;49m\u001b[39m\"\u001b[39;49m,\n\u001b[1;32m    <a href='file:///home/ubuntu/miniconda3/envs/pycaret_full/lib/python3.9/site-packages/pycaret/regression.py?line=572'>573</a>\u001b[0m     available_plots\u001b[39m=\u001b[39;49mavailable_plots,\n\u001b[1;32m    <a href='file:///home/ubuntu/miniconda3/envs/pycaret_full/lib/python3.9/site-packages/pycaret/regression.py?line=573'>574</a>\u001b[0m     data\u001b[39m=\u001b[39;49mdata,\n\u001b[1;32m    <a href='file:///home/ubuntu/miniconda3/envs/pycaret_full/lib/python3.9/site-packages/pycaret/regression.py?line=574'>575</a>\u001b[0m     target\u001b[39m=\u001b[39;49mtarget,\n\u001b[1;32m    <a href='file:///home/ubuntu/miniconda3/envs/pycaret_full/lib/python3.9/site-packages/pycaret/regression.py?line=575'>576</a>\u001b[0m     train_size\u001b[39m=\u001b[39;49mtrain_size,\n\u001b[1;32m    <a href='file:///home/ubuntu/miniconda3/envs/pycaret_full/lib/python3.9/site-packages/pycaret/regression.py?line=576'>577</a>\u001b[0m     test_data\u001b[39m=\u001b[39;49mtest_data,\n\u001b[1;32m    <a href='file:///home/ubuntu/miniconda3/envs/pycaret_full/lib/python3.9/site-packages/pycaret/regression.py?line=577'>578</a>\u001b[0m     preprocess\u001b[39m=\u001b[39;49mpreprocess,\n\u001b[1;32m    <a href='file:///home/ubuntu/miniconda3/envs/pycaret_full/lib/python3.9/site-packages/pycaret/regression.py?line=578'>579</a>\u001b[0m     imputation_type\u001b[39m=\u001b[39;49mimputation_type,\n\u001b[1;32m    <a href='file:///home/ubuntu/miniconda3/envs/pycaret_full/lib/python3.9/site-packages/pycaret/regression.py?line=579'>580</a>\u001b[0m     iterative_imputation_iters\u001b[39m=\u001b[39;49miterative_imputation_iters,\n\u001b[1;32m    <a href='file:///home/ubuntu/miniconda3/envs/pycaret_full/lib/python3.9/site-packages/pycaret/regression.py?line=580'>581</a>\u001b[0m     categorical_features\u001b[39m=\u001b[39;49mcategorical_features,\n\u001b[1;32m    <a href='file:///home/ubuntu/miniconda3/envs/pycaret_full/lib/python3.9/site-packages/pycaret/regression.py?line=581'>582</a>\u001b[0m     categorical_imputation\u001b[39m=\u001b[39;49mcategorical_imputation,\n\u001b[1;32m    <a href='file:///home/ubuntu/miniconda3/envs/pycaret_full/lib/python3.9/site-packages/pycaret/regression.py?line=582'>583</a>\u001b[0m     categorical_iterative_imputer\u001b[39m=\u001b[39;49mcategorical_iterative_imputer,\n\u001b[1;32m    <a href='file:///home/ubuntu/miniconda3/envs/pycaret_full/lib/python3.9/site-packages/pycaret/regression.py?line=583'>584</a>\u001b[0m     ordinal_features\u001b[39m=\u001b[39;49mordinal_features,\n\u001b[1;32m    <a href='file:///home/ubuntu/miniconda3/envs/pycaret_full/lib/python3.9/site-packages/pycaret/regression.py?line=584'>585</a>\u001b[0m     high_cardinality_features\u001b[39m=\u001b[39;49mhigh_cardinality_features,\n\u001b[1;32m    <a href='file:///home/ubuntu/miniconda3/envs/pycaret_full/lib/python3.9/site-packages/pycaret/regression.py?line=585'>586</a>\u001b[0m     high_cardinality_method\u001b[39m=\u001b[39;49mhigh_cardinality_method,\n\u001b[1;32m    <a href='file:///home/ubuntu/miniconda3/envs/pycaret_full/lib/python3.9/site-packages/pycaret/regression.py?line=586'>587</a>\u001b[0m     numeric_features\u001b[39m=\u001b[39;49mnumeric_features,\n\u001b[1;32m    <a href='file:///home/ubuntu/miniconda3/envs/pycaret_full/lib/python3.9/site-packages/pycaret/regression.py?line=587'>588</a>\u001b[0m     numeric_imputation\u001b[39m=\u001b[39;49mnumeric_imputation,\n\u001b[1;32m    <a href='file:///home/ubuntu/miniconda3/envs/pycaret_full/lib/python3.9/site-packages/pycaret/regression.py?line=588'>589</a>\u001b[0m     numeric_iterative_imputer\u001b[39m=\u001b[39;49mnumeric_iterative_imputer,\n\u001b[1;32m    <a href='file:///home/ubuntu/miniconda3/envs/pycaret_full/lib/python3.9/site-packages/pycaret/regression.py?line=589'>590</a>\u001b[0m     date_features\u001b[39m=\u001b[39;49mdate_features,\n\u001b[1;32m    <a href='file:///home/ubuntu/miniconda3/envs/pycaret_full/lib/python3.9/site-packages/pycaret/regression.py?line=590'>591</a>\u001b[0m     ignore_features\u001b[39m=\u001b[39;49mignore_features,\n\u001b[1;32m    <a href='file:///home/ubuntu/miniconda3/envs/pycaret_full/lib/python3.9/site-packages/pycaret/regression.py?line=591'>592</a>\u001b[0m     normalize\u001b[39m=\u001b[39;49mnormalize,\n\u001b[1;32m    <a href='file:///home/ubuntu/miniconda3/envs/pycaret_full/lib/python3.9/site-packages/pycaret/regression.py?line=592'>593</a>\u001b[0m     normalize_method\u001b[39m=\u001b[39;49mnormalize_method,\n\u001b[1;32m    <a href='file:///home/ubuntu/miniconda3/envs/pycaret_full/lib/python3.9/site-packages/pycaret/regression.py?line=593'>594</a>\u001b[0m     transformation\u001b[39m=\u001b[39;49mtransformation,\n\u001b[1;32m    <a href='file:///home/ubuntu/miniconda3/envs/pycaret_full/lib/python3.9/site-packages/pycaret/regression.py?line=594'>595</a>\u001b[0m     transformation_method\u001b[39m=\u001b[39;49mtransformation_method,\n\u001b[1;32m    <a href='file:///home/ubuntu/miniconda3/envs/pycaret_full/lib/python3.9/site-packages/pycaret/regression.py?line=595'>596</a>\u001b[0m     handle_unknown_categorical\u001b[39m=\u001b[39;49mhandle_unknown_categorical,\n\u001b[1;32m    <a href='file:///home/ubuntu/miniconda3/envs/pycaret_full/lib/python3.9/site-packages/pycaret/regression.py?line=596'>597</a>\u001b[0m     unknown_categorical_method\u001b[39m=\u001b[39;49munknown_categorical_method,\n\u001b[1;32m    <a href='file:///home/ubuntu/miniconda3/envs/pycaret_full/lib/python3.9/site-packages/pycaret/regression.py?line=597'>598</a>\u001b[0m     pca\u001b[39m=\u001b[39;49mpca,\n\u001b[1;32m    <a href='file:///home/ubuntu/miniconda3/envs/pycaret_full/lib/python3.9/site-packages/pycaret/regression.py?line=598'>599</a>\u001b[0m     pca_method\u001b[39m=\u001b[39;49mpca_method,\n\u001b[1;32m    <a href='file:///home/ubuntu/miniconda3/envs/pycaret_full/lib/python3.9/site-packages/pycaret/regression.py?line=599'>600</a>\u001b[0m     pca_components\u001b[39m=\u001b[39;49mpca_components,\n\u001b[1;32m    <a href='file:///home/ubuntu/miniconda3/envs/pycaret_full/lib/python3.9/site-packages/pycaret/regression.py?line=600'>601</a>\u001b[0m     ignore_low_variance\u001b[39m=\u001b[39;49mignore_low_variance,\n\u001b[1;32m    <a href='file:///home/ubuntu/miniconda3/envs/pycaret_full/lib/python3.9/site-packages/pycaret/regression.py?line=601'>602</a>\u001b[0m     combine_rare_levels\u001b[39m=\u001b[39;49mcombine_rare_levels,\n\u001b[1;32m    <a href='file:///home/ubuntu/miniconda3/envs/pycaret_full/lib/python3.9/site-packages/pycaret/regression.py?line=602'>603</a>\u001b[0m     rare_level_threshold\u001b[39m=\u001b[39;49mrare_level_threshold,\n\u001b[1;32m    <a href='file:///home/ubuntu/miniconda3/envs/pycaret_full/lib/python3.9/site-packages/pycaret/regression.py?line=603'>604</a>\u001b[0m     bin_numeric_features\u001b[39m=\u001b[39;49mbin_numeric_features,\n\u001b[1;32m    <a href='file:///home/ubuntu/miniconda3/envs/pycaret_full/lib/python3.9/site-packages/pycaret/regression.py?line=604'>605</a>\u001b[0m     remove_outliers\u001b[39m=\u001b[39;49mremove_outliers,\n\u001b[1;32m    <a href='file:///home/ubuntu/miniconda3/envs/pycaret_full/lib/python3.9/site-packages/pycaret/regression.py?line=605'>606</a>\u001b[0m     outliers_threshold\u001b[39m=\u001b[39;49moutliers_threshold,\n\u001b[1;32m    <a href='file:///home/ubuntu/miniconda3/envs/pycaret_full/lib/python3.9/site-packages/pycaret/regression.py?line=606'>607</a>\u001b[0m     remove_multicollinearity\u001b[39m=\u001b[39;49mremove_multicollinearity,\n\u001b[1;32m    <a href='file:///home/ubuntu/miniconda3/envs/pycaret_full/lib/python3.9/site-packages/pycaret/regression.py?line=607'>608</a>\u001b[0m     multicollinearity_threshold\u001b[39m=\u001b[39;49mmulticollinearity_threshold,\n\u001b[1;32m    <a href='file:///home/ubuntu/miniconda3/envs/pycaret_full/lib/python3.9/site-packages/pycaret/regression.py?line=608'>609</a>\u001b[0m     remove_perfect_collinearity\u001b[39m=\u001b[39;49mremove_perfect_collinearity,\n\u001b[1;32m    <a href='file:///home/ubuntu/miniconda3/envs/pycaret_full/lib/python3.9/site-packages/pycaret/regression.py?line=609'>610</a>\u001b[0m     create_clusters\u001b[39m=\u001b[39;49mcreate_clusters,\n\u001b[1;32m    <a href='file:///home/ubuntu/miniconda3/envs/pycaret_full/lib/python3.9/site-packages/pycaret/regression.py?line=610'>611</a>\u001b[0m     cluster_iter\u001b[39m=\u001b[39;49mcluster_iter,\n\u001b[1;32m    <a href='file:///home/ubuntu/miniconda3/envs/pycaret_full/lib/python3.9/site-packages/pycaret/regression.py?line=611'>612</a>\u001b[0m     polynomial_features\u001b[39m=\u001b[39;49mpolynomial_features,\n\u001b[1;32m    <a href='file:///home/ubuntu/miniconda3/envs/pycaret_full/lib/python3.9/site-packages/pycaret/regression.py?line=612'>613</a>\u001b[0m     polynomial_degree\u001b[39m=\u001b[39;49mpolynomial_degree,\n\u001b[1;32m    <a href='file:///home/ubuntu/miniconda3/envs/pycaret_full/lib/python3.9/site-packages/pycaret/regression.py?line=613'>614</a>\u001b[0m     trigonometry_features\u001b[39m=\u001b[39;49mtrigonometry_features,\n\u001b[1;32m    <a href='file:///home/ubuntu/miniconda3/envs/pycaret_full/lib/python3.9/site-packages/pycaret/regression.py?line=614'>615</a>\u001b[0m     polynomial_threshold\u001b[39m=\u001b[39;49mpolynomial_threshold,\n\u001b[1;32m    <a href='file:///home/ubuntu/miniconda3/envs/pycaret_full/lib/python3.9/site-packages/pycaret/regression.py?line=615'>616</a>\u001b[0m     group_features\u001b[39m=\u001b[39;49mgroup_features,\n\u001b[1;32m    <a href='file:///home/ubuntu/miniconda3/envs/pycaret_full/lib/python3.9/site-packages/pycaret/regression.py?line=616'>617</a>\u001b[0m     group_names\u001b[39m=\u001b[39;49mgroup_names,\n\u001b[1;32m    <a href='file:///home/ubuntu/miniconda3/envs/pycaret_full/lib/python3.9/site-packages/pycaret/regression.py?line=617'>618</a>\u001b[0m     feature_selection\u001b[39m=\u001b[39;49mfeature_selection,\n\u001b[1;32m    <a href='file:///home/ubuntu/miniconda3/envs/pycaret_full/lib/python3.9/site-packages/pycaret/regression.py?line=618'>619</a>\u001b[0m     feature_selection_threshold\u001b[39m=\u001b[39;49mfeature_selection_threshold,\n\u001b[1;32m    <a href='file:///home/ubuntu/miniconda3/envs/pycaret_full/lib/python3.9/site-packages/pycaret/regression.py?line=619'>620</a>\u001b[0m     feature_selection_method\u001b[39m=\u001b[39;49mfeature_selection_method,\n\u001b[1;32m    <a href='file:///home/ubuntu/miniconda3/envs/pycaret_full/lib/python3.9/site-packages/pycaret/regression.py?line=620'>621</a>\u001b[0m     feature_interaction\u001b[39m=\u001b[39;49mfeature_interaction,\n\u001b[1;32m    <a href='file:///home/ubuntu/miniconda3/envs/pycaret_full/lib/python3.9/site-packages/pycaret/regression.py?line=621'>622</a>\u001b[0m     feature_ratio\u001b[39m=\u001b[39;49mfeature_ratio,\n\u001b[1;32m    <a href='file:///home/ubuntu/miniconda3/envs/pycaret_full/lib/python3.9/site-packages/pycaret/regression.py?line=622'>623</a>\u001b[0m     interaction_threshold\u001b[39m=\u001b[39;49minteraction_threshold,\n\u001b[1;32m    <a href='file:///home/ubuntu/miniconda3/envs/pycaret_full/lib/python3.9/site-packages/pycaret/regression.py?line=623'>624</a>\u001b[0m     transform_target\u001b[39m=\u001b[39;49mtransform_target,\n\u001b[1;32m    <a href='file:///home/ubuntu/miniconda3/envs/pycaret_full/lib/python3.9/site-packages/pycaret/regression.py?line=624'>625</a>\u001b[0m     transform_target_method\u001b[39m=\u001b[39;49mtransform_target_method,\n\u001b[1;32m    <a href='file:///home/ubuntu/miniconda3/envs/pycaret_full/lib/python3.9/site-packages/pycaret/regression.py?line=625'>626</a>\u001b[0m     data_split_shuffle\u001b[39m=\u001b[39;49mdata_split_shuffle,\n\u001b[1;32m    <a href='file:///home/ubuntu/miniconda3/envs/pycaret_full/lib/python3.9/site-packages/pycaret/regression.py?line=626'>627</a>\u001b[0m     data_split_stratify\u001b[39m=\u001b[39;49mdata_split_stratify,\n\u001b[1;32m    <a href='file:///home/ubuntu/miniconda3/envs/pycaret_full/lib/python3.9/site-packages/pycaret/regression.py?line=627'>628</a>\u001b[0m     fold_strategy\u001b[39m=\u001b[39;49mfold_strategy,\n\u001b[1;32m    <a href='file:///home/ubuntu/miniconda3/envs/pycaret_full/lib/python3.9/site-packages/pycaret/regression.py?line=628'>629</a>\u001b[0m     fold\u001b[39m=\u001b[39;49mfold,\n\u001b[1;32m    <a href='file:///home/ubuntu/miniconda3/envs/pycaret_full/lib/python3.9/site-packages/pycaret/regression.py?line=629'>630</a>\u001b[0m     fold_shuffle\u001b[39m=\u001b[39;49mfold_shuffle,\n\u001b[1;32m    <a href='file:///home/ubuntu/miniconda3/envs/pycaret_full/lib/python3.9/site-packages/pycaret/regression.py?line=630'>631</a>\u001b[0m     fold_groups\u001b[39m=\u001b[39;49mfold_groups,\n\u001b[1;32m    <a href='file:///home/ubuntu/miniconda3/envs/pycaret_full/lib/python3.9/site-packages/pycaret/regression.py?line=631'>632</a>\u001b[0m     n_jobs\u001b[39m=\u001b[39;49mn_jobs,\n\u001b[1;32m    <a href='file:///home/ubuntu/miniconda3/envs/pycaret_full/lib/python3.9/site-packages/pycaret/regression.py?line=632'>633</a>\u001b[0m     use_gpu\u001b[39m=\u001b[39;49muse_gpu,\n\u001b[1;32m    <a href='file:///home/ubuntu/miniconda3/envs/pycaret_full/lib/python3.9/site-packages/pycaret/regression.py?line=633'>634</a>\u001b[0m     custom_pipeline\u001b[39m=\u001b[39;49mcustom_pipeline,\n\u001b[1;32m    <a href='file:///home/ubuntu/miniconda3/envs/pycaret_full/lib/python3.9/site-packages/pycaret/regression.py?line=634'>635</a>\u001b[0m     html\u001b[39m=\u001b[39;49mhtml,\n\u001b[1;32m    <a href='file:///home/ubuntu/miniconda3/envs/pycaret_full/lib/python3.9/site-packages/pycaret/regression.py?line=635'>636</a>\u001b[0m     session_id\u001b[39m=\u001b[39;49msession_id,\n\u001b[1;32m    <a href='file:///home/ubuntu/miniconda3/envs/pycaret_full/lib/python3.9/site-packages/pycaret/regression.py?line=636'>637</a>\u001b[0m     log_experiment\u001b[39m=\u001b[39;49mlog_experiment,\n\u001b[1;32m    <a href='file:///home/ubuntu/miniconda3/envs/pycaret_full/lib/python3.9/site-packages/pycaret/regression.py?line=637'>638</a>\u001b[0m     experiment_name\u001b[39m=\u001b[39;49mexperiment_name,\n\u001b[1;32m    <a href='file:///home/ubuntu/miniconda3/envs/pycaret_full/lib/python3.9/site-packages/pycaret/regression.py?line=638'>639</a>\u001b[0m     log_plots\u001b[39m=\u001b[39;49mlog_plots,\n\u001b[1;32m    <a href='file:///home/ubuntu/miniconda3/envs/pycaret_full/lib/python3.9/site-packages/pycaret/regression.py?line=639'>640</a>\u001b[0m     log_profile\u001b[39m=\u001b[39;49mlog_profile,\n\u001b[1;32m    <a href='file:///home/ubuntu/miniconda3/envs/pycaret_full/lib/python3.9/site-packages/pycaret/regression.py?line=640'>641</a>\u001b[0m     log_data\u001b[39m=\u001b[39;49mlog_data,\n\u001b[1;32m    <a href='file:///home/ubuntu/miniconda3/envs/pycaret_full/lib/python3.9/site-packages/pycaret/regression.py?line=641'>642</a>\u001b[0m     silent\u001b[39m=\u001b[39;49msilent,\n\u001b[1;32m    <a href='file:///home/ubuntu/miniconda3/envs/pycaret_full/lib/python3.9/site-packages/pycaret/regression.py?line=642'>643</a>\u001b[0m     verbose\u001b[39m=\u001b[39;49mverbose,\n\u001b[1;32m    <a href='file:///home/ubuntu/miniconda3/envs/pycaret_full/lib/python3.9/site-packages/pycaret/regression.py?line=643'>644</a>\u001b[0m     profile\u001b[39m=\u001b[39;49mprofile,\n\u001b[1;32m    <a href='file:///home/ubuntu/miniconda3/envs/pycaret_full/lib/python3.9/site-packages/pycaret/regression.py?line=644'>645</a>\u001b[0m     profile_kwargs\u001b[39m=\u001b[39;49mprofile_kwargs,\n\u001b[1;32m    <a href='file:///home/ubuntu/miniconda3/envs/pycaret_full/lib/python3.9/site-packages/pycaret/regression.py?line=645'>646</a>\u001b[0m )\n",
      "File \u001b[0;32m~/miniconda3/envs/pycaret_full/lib/python3.9/site-packages/pycaret/internal/tabular.py:1210\u001b[0m, in \u001b[0;36msetup\u001b[0;34m(data, target, ml_usecase, available_plots, train_size, test_data, preprocess, imputation_type, iterative_imputation_iters, categorical_features, categorical_imputation, categorical_iterative_imputer, ordinal_features, high_cardinality_features, high_cardinality_method, numeric_features, numeric_imputation, numeric_iterative_imputer, date_features, ignore_features, normalize, normalize_method, transformation, transformation_method, handle_unknown_categorical, unknown_categorical_method, pca, pca_method, pca_components, ignore_low_variance, combine_rare_levels, rare_level_threshold, bin_numeric_features, remove_outliers, outliers_threshold, remove_multicollinearity, multicollinearity_threshold, remove_perfect_collinearity, create_clusters, cluster_iter, polynomial_features, polynomial_degree, trigonometry_features, polynomial_threshold, group_features, group_names, feature_selection, feature_selection_threshold, feature_selection_method, feature_interaction, feature_ratio, interaction_threshold, fix_imbalance, fix_imbalance_method, transform_target, transform_target_method, data_split_shuffle, data_split_stratify, fold_strategy, fold, fold_shuffle, fold_groups, n_jobs, use_gpu, custom_pipeline, html, session_id, log_experiment, experiment_name, log_plots, log_profile, log_data, silent, verbose, profile, profile_kwargs, display)\u001b[0m\n\u001b[1;32m   <a href='file:///home/ubuntu/miniconda3/envs/pycaret_full/lib/python3.9/site-packages/pycaret/internal/tabular.py?line=1201'>1202</a>\u001b[0m \u001b[39mfrom\u001b[39;00m \u001b[39msklearn\u001b[39;00m\u001b[39m.\u001b[39;00m\u001b[39mmodel_selection\u001b[39;00m \u001b[39mimport\u001b[39;00m (\n\u001b[1;32m   <a href='file:///home/ubuntu/miniconda3/envs/pycaret_full/lib/python3.9/site-packages/pycaret/internal/tabular.py?line=1202'>1203</a>\u001b[0m     StratifiedKFold,\n\u001b[1;32m   <a href='file:///home/ubuntu/miniconda3/envs/pycaret_full/lib/python3.9/site-packages/pycaret/internal/tabular.py?line=1203'>1204</a>\u001b[0m     KFold,\n\u001b[1;32m   <a href='file:///home/ubuntu/miniconda3/envs/pycaret_full/lib/python3.9/site-packages/pycaret/internal/tabular.py?line=1204'>1205</a>\u001b[0m     GroupKFold,\n\u001b[1;32m   <a href='file:///home/ubuntu/miniconda3/envs/pycaret_full/lib/python3.9/site-packages/pycaret/internal/tabular.py?line=1205'>1206</a>\u001b[0m     TimeSeriesSplit,\n\u001b[1;32m   <a href='file:///home/ubuntu/miniconda3/envs/pycaret_full/lib/python3.9/site-packages/pycaret/internal/tabular.py?line=1206'>1207</a>\u001b[0m )\n\u001b[1;32m   <a href='file:///home/ubuntu/miniconda3/envs/pycaret_full/lib/python3.9/site-packages/pycaret/internal/tabular.py?line=1208'>1209</a>\u001b[0m \u001b[39mif\u001b[39;00m fold_strategy \u001b[39m==\u001b[39m \u001b[39m\"\u001b[39m\u001b[39mkfold\u001b[39m\u001b[39m\"\u001b[39m:\n\u001b[0;32m-> <a href='file:///home/ubuntu/miniconda3/envs/pycaret_full/lib/python3.9/site-packages/pycaret/internal/tabular.py?line=1209'>1210</a>\u001b[0m     fold_generator \u001b[39m=\u001b[39m KFold(\n\u001b[1;32m   <a href='file:///home/ubuntu/miniconda3/envs/pycaret_full/lib/python3.9/site-packages/pycaret/internal/tabular.py?line=1210'>1211</a>\u001b[0m         fold_param, random_state\u001b[39m=\u001b[39;49mseed, shuffle\u001b[39m=\u001b[39;49mfold_shuffle_param\n\u001b[1;32m   <a href='file:///home/ubuntu/miniconda3/envs/pycaret_full/lib/python3.9/site-packages/pycaret/internal/tabular.py?line=1211'>1212</a>\u001b[0m     )\n\u001b[1;32m   <a href='file:///home/ubuntu/miniconda3/envs/pycaret_full/lib/python3.9/site-packages/pycaret/internal/tabular.py?line=1212'>1213</a>\u001b[0m \u001b[39melif\u001b[39;00m fold_strategy \u001b[39m==\u001b[39m \u001b[39m\"\u001b[39m\u001b[39mstratifiedkfold\u001b[39m\u001b[39m\"\u001b[39m:\n\u001b[1;32m   <a href='file:///home/ubuntu/miniconda3/envs/pycaret_full/lib/python3.9/site-packages/pycaret/internal/tabular.py?line=1213'>1214</a>\u001b[0m     fold_generator \u001b[39m=\u001b[39m StratifiedKFold(\n\u001b[1;32m   <a href='file:///home/ubuntu/miniconda3/envs/pycaret_full/lib/python3.9/site-packages/pycaret/internal/tabular.py?line=1214'>1215</a>\u001b[0m         fold_param, random_state\u001b[39m=\u001b[39mseed, shuffle\u001b[39m=\u001b[39mfold_shuffle_param\n\u001b[1;32m   <a href='file:///home/ubuntu/miniconda3/envs/pycaret_full/lib/python3.9/site-packages/pycaret/internal/tabular.py?line=1215'>1216</a>\u001b[0m     )\n",
      "File \u001b[0;32m~/miniconda3/envs/pycaret_full/lib/python3.9/site-packages/sklearn/model_selection/_split.py:435\u001b[0m, in \u001b[0;36mKFold.__init__\u001b[0;34m(self, n_splits, shuffle, random_state)\u001b[0m\n\u001b[1;32m    <a href='file:///home/ubuntu/miniconda3/envs/pycaret_full/lib/python3.9/site-packages/sklearn/model_selection/_split.py?line=433'>434</a>\u001b[0m \u001b[39mdef\u001b[39;00m \u001b[39m__init__\u001b[39m(\u001b[39mself\u001b[39m, n_splits\u001b[39m=\u001b[39m\u001b[39m5\u001b[39m, \u001b[39m*\u001b[39m, shuffle\u001b[39m=\u001b[39m\u001b[39mFalse\u001b[39;00m, random_state\u001b[39m=\u001b[39m\u001b[39mNone\u001b[39;00m):\n\u001b[0;32m--> <a href='file:///home/ubuntu/miniconda3/envs/pycaret_full/lib/python3.9/site-packages/sklearn/model_selection/_split.py?line=434'>435</a>\u001b[0m     \u001b[39msuper\u001b[39;49m()\u001b[39m.\u001b[39;49m\u001b[39m__init__\u001b[39;49m(n_splits\u001b[39m=\u001b[39;49mn_splits, shuffle\u001b[39m=\u001b[39;49mshuffle, random_state\u001b[39m=\u001b[39;49mrandom_state)\n",
      "File \u001b[0;32m~/miniconda3/envs/pycaret_full/lib/python3.9/site-packages/sklearn/model_selection/_split.py:296\u001b[0m, in \u001b[0;36m_BaseKFold.__init__\u001b[0;34m(self, n_splits, shuffle, random_state)\u001b[0m\n\u001b[1;32m    <a href='file:///home/ubuntu/miniconda3/envs/pycaret_full/lib/python3.9/site-packages/sklearn/model_selection/_split.py?line=292'>293</a>\u001b[0m     \u001b[39mraise\u001b[39;00m \u001b[39mTypeError\u001b[39;00m(\u001b[39m\"\u001b[39m\u001b[39mshuffle must be True or False; got \u001b[39m\u001b[39m{0}\u001b[39;00m\u001b[39m\"\u001b[39m\u001b[39m.\u001b[39mformat(shuffle))\n\u001b[1;32m    <a href='file:///home/ubuntu/miniconda3/envs/pycaret_full/lib/python3.9/site-packages/sklearn/model_selection/_split.py?line=294'>295</a>\u001b[0m \u001b[39mif\u001b[39;00m \u001b[39mnot\u001b[39;00m shuffle \u001b[39mand\u001b[39;00m random_state \u001b[39mis\u001b[39;00m \u001b[39mnot\u001b[39;00m \u001b[39mNone\u001b[39;00m:  \u001b[39m# None is the default\u001b[39;00m\n\u001b[0;32m--> <a href='file:///home/ubuntu/miniconda3/envs/pycaret_full/lib/python3.9/site-packages/sklearn/model_selection/_split.py?line=295'>296</a>\u001b[0m     \u001b[39mraise\u001b[39;00m \u001b[39mValueError\u001b[39;00m(\n\u001b[1;32m    <a href='file:///home/ubuntu/miniconda3/envs/pycaret_full/lib/python3.9/site-packages/sklearn/model_selection/_split.py?line=296'>297</a>\u001b[0m         \u001b[39m\"\u001b[39m\u001b[39mSetting a random_state has no effect since shuffle is \u001b[39m\u001b[39m\"\u001b[39m\n\u001b[1;32m    <a href='file:///home/ubuntu/miniconda3/envs/pycaret_full/lib/python3.9/site-packages/sklearn/model_selection/_split.py?line=297'>298</a>\u001b[0m         \u001b[39m\"\u001b[39m\u001b[39mFalse. You should leave \u001b[39m\u001b[39m\"\u001b[39m\n\u001b[1;32m    <a href='file:///home/ubuntu/miniconda3/envs/pycaret_full/lib/python3.9/site-packages/sklearn/model_selection/_split.py?line=298'>299</a>\u001b[0m         \u001b[39m\"\u001b[39m\u001b[39mrandom_state to its default (None), or set shuffle=True.\u001b[39m\u001b[39m\"\u001b[39m,\n\u001b[1;32m    <a href='file:///home/ubuntu/miniconda3/envs/pycaret_full/lib/python3.9/site-packages/sklearn/model_selection/_split.py?line=299'>300</a>\u001b[0m     )\n\u001b[1;32m    <a href='file:///home/ubuntu/miniconda3/envs/pycaret_full/lib/python3.9/site-packages/sklearn/model_selection/_split.py?line=301'>302</a>\u001b[0m \u001b[39mself\u001b[39m\u001b[39m.\u001b[39mn_splits \u001b[39m=\u001b[39m n_splits\n\u001b[1;32m    <a href='file:///home/ubuntu/miniconda3/envs/pycaret_full/lib/python3.9/site-packages/sklearn/model_selection/_split.py?line=302'>303</a>\u001b[0m \u001b[39mself\u001b[39m\u001b[39m.\u001b[39mshuffle \u001b[39m=\u001b[39m shuffle\n",
      "\u001b[0;31mValueError\u001b[0m: Setting a random_state has no effect since shuffle is False. You should leave random_state to its default (None), or set shuffle=True."
     ]
    }
   ],
   "source": [
    "exp_reg101 = setup(data = df, target = 'demand', session_id=123) "
   ]
  }
 ],
 "metadata": {
  "interpreter": {
   "hash": "0bb02b7f66b097385c317f3d2d6442ef0bf2cc920f59517b442d569019b451ce"
  },
  "kernelspec": {
   "display_name": "Python 3.8.13 ('pycaret_full')",
   "language": "python",
   "name": "python3"
  },
  "language_info": {
   "codemirror_mode": {
    "name": "ipython",
    "version": 3
   },
   "file_extension": ".py",
   "mimetype": "text/x-python",
   "name": "python",
   "nbconvert_exporter": "python",
   "pygments_lexer": "ipython3",
   "version": "3.8.13"
  },
  "orig_nbformat": 4
 },
 "nbformat": 4,
 "nbformat_minor": 2
}
